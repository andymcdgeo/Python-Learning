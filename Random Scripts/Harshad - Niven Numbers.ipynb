{
 "cells": [
  {
   "cell_type": "code",
   "execution_count": 180,
   "metadata": {},
   "outputs": [],
   "source": [
    "def is_valid(number):\n",
    "    divisor = sum([int(n) for n in str(number)])\n",
    "\n",
    "    return True if number % divisor == 0 else False"
   ]
  },
  {
   "cell_type": "code",
   "execution_count": 181,
   "metadata": {},
   "outputs": [
    {
     "data": {
      "text/plain": [
       "True"
      ]
     },
     "execution_count": 181,
     "metadata": {},
     "output_type": "execute_result"
    }
   ],
   "source": [
    "is_valid(12)"
   ]
  },
  {
   "cell_type": "code",
   "execution_count": 182,
   "metadata": {},
   "outputs": [],
   "source": [
    "def get_next(number):\n",
    "    nextNum = number + 1\n",
    " \n",
    "    while True:\n",
    "        if is_valid(nextNum) is True:\n",
    "            return nextNum\n",
    "        else:\n",
    "            nextNum +=1\n",
    "        \n",
    "    print(\"The first Harshad number after {} is {}\".format(number, nextNum))\n",
    "    "
   ]
  },
  {
   "cell_type": "code",
   "execution_count": 185,
   "metadata": {},
   "outputs": [
    {
     "data": {
      "text/plain": [
       "102"
      ]
     },
     "execution_count": 185,
     "metadata": {},
     "output_type": "execute_result"
    }
   ],
   "source": [
    "get_next(100)"
   ]
  },
  {
   "cell_type": "code",
   "execution_count": 169,
   "metadata": {},
   "outputs": [],
   "source": [
    "def get_series(numOfNums, startValue=0):\n",
    "    series = []\n",
    "\n",
    "    numberToCheck = startValue + 1\n",
    "    \n",
    "    while len(series) < numOfNums:\n",
    "        if is_valid(numberToCheck):\n",
    "            series.append(numberToCheck)\n",
    "            numberToCheck+=1\n",
    "        else:\n",
    "            numberToCheck+=1\n",
    "    \n",
    "    return series"
   ]
  },
  {
   "cell_type": "code",
   "execution_count": 163,
   "metadata": {},
   "outputs": [
    {
     "data": {
      "text/plain": [
       "[1002, 1008, 1010, 1011, 1012, 1014, 1015, 1016, 1017, 1020]"
      ]
     },
     "execution_count": 163,
     "metadata": {},
     "output_type": "execute_result"
    }
   ],
   "source": [
    "get_series(10, 1000)"
   ]
  },
  {
   "cell_type": "code",
   "execution_count": null,
   "metadata": {},
   "outputs": [],
   "source": []
  }
 ],
 "metadata": {
  "kernelspec": {
   "display_name": "Python 3",
   "language": "python",
   "name": "python3"
  },
  "language_info": {
   "codemirror_mode": {
    "name": "ipython",
    "version": 3
   },
   "file_extension": ".py",
   "mimetype": "text/x-python",
   "name": "python",
   "nbconvert_exporter": "python",
   "pygments_lexer": "ipython3",
   "version": "3.7.6"
  }
 },
 "nbformat": 4,
 "nbformat_minor": 4
}

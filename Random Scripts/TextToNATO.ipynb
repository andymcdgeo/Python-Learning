{
 "cells": [
  {
   "cell_type": "markdown",
   "metadata": {},
   "source": [
    "# Text to NATO Phonetic Alphabet\n",
    "## Using a for loop and if statements\n",
    "This is an example of using a for loop to go over every character in the string and check if it is in the dictionary. As the dictionary is in upper case we need to use the .upper() function to make sure there is an exact match. If the dictionary was done using lowercase letters then we would need to use the function .lower(). <br>\n",
    "\n",
    "The second if statement checks if the character is not a space and appends it to the list. Otherwise, it will append the original character. <br>\n",
    "\n",
    "The last section, the return statement, joins the words together with a space. "
   ]
  },
  {
   "cell_type": "code",
   "execution_count": 1,
   "metadata": {},
   "outputs": [],
   "source": [
    "def to_nato(words):\n",
    "    PhoneticAlphabet = {'A':'Alfa', 'B':'Bravo', 'C':'Charlie', 'D':'Delta', 'E':'Echo', 'F':'Foxtrot', 'G':'Golf', 'H':'Hotel', 'I':'India',\n",
    "     'J':'Juliett', 'K':'Kilo', 'L':'Lima', 'M':'Mike', 'N':'November', 'O':'Oscar', 'P':'Papa', 'Q':'Quebec', 'R':'Romeo', \n",
    "     'S':'Sierra', 'T':'Tango', 'U':'Uniform', 'V':'Victor', 'W':'Whiskey', 'X':'Xray', 'Y':'Yankee', 'Z':'Zulu'}\n",
    "    \n",
    "    phoneticWords = [] # Create an empty list\n",
    "    \n",
    "    for character in words:\n",
    "        if character.upper() in PhoneticAlphabet: #If character is in dictionary keys\n",
    "            phoneticWords.append(PhoneticAlphabet.get(character.upper())) #Append value to list\n",
    "        \n",
    "        else:        \n",
    "            if character != ' ': #If spaces are not present then append character\n",
    "                phoneticWords.append(character)\n",
    "    \n",
    "    return ' '.join(phoneticWords) #Join together the items in the list\n",
    "        \n",
    "    \n",
    "    "
   ]
  },
  {
   "cell_type": "code",
   "execution_count": 2,
   "metadata": {},
   "outputs": [
    {
     "data": {
      "text/plain": [
       "'India Foxtrot Yankee Oscar Uniform Charlie Alfa November Romeo Echo Alfa Delta Tango Hotel India Sierra Tango Hotel Echo November Golf Oscar Oscar Delta Foxtrot Oscar Romeo Yankee Oscar Uniform'"
      ]
     },
     "execution_count": 2,
     "metadata": {},
     "output_type": "execute_result"
    }
   ],
   "source": [
    "to_nato('If you can read this then good for you')"
   ]
  },
  {
   "cell_type": "code",
   "execution_count": 3,
   "metadata": {},
   "outputs": [
    {
     "data": {
      "text/plain": [
       "'Foxtrot Uniform Bravo Alfa Romeo ! !'"
      ]
     },
     "execution_count": 3,
     "metadata": {},
     "output_type": "execute_result"
    }
   ],
   "source": [
    "to_nato('FUBAR!!')"
   ]
  },
  {
   "cell_type": "code",
   "execution_count": 4,
   "metadata": {},
   "outputs": [
    {
     "data": {
      "text/plain": [
       "'Hotel Oscar Whiskey Alfa Romeo Echo Yankee Oscar Uniform Tango Oscar Delta Alfa Yankee ?'"
      ]
     },
     "execution_count": 4,
     "metadata": {},
     "output_type": "execute_result"
    }
   ],
   "source": [
    "to_nato('How are you today?')"
   ]
  },
  {
   "cell_type": "markdown",
   "metadata": {},
   "source": [
    "## Using a List Comprehension\n",
    "This is an example of using a list comprehension to achieve the previous to_nato function. <br>\n",
    "It uses the dictionary.get method, which allows you to find a key in the dictionary and return its value, if that item is not found then it will return something else. In this case the original character <br><br>\n",
    "If that original character is a space, then it will be ignored. This is done using the if statement at the end."
   ]
  },
  {
   "cell_type": "code",
   "execution_count": 5,
   "metadata": {},
   "outputs": [],
   "source": [
    "def to_nato_list_comp(words):\n",
    "    PhoneticAlphabet = {'A':'Alfa', 'B':'Bravo', 'C':'Charlie', 'D':'Delta', 'E':'Echo', 'F':'Foxtrot', 'G':'Golf', 'H':'Hotel', 'I':'India',\n",
    "     'J':'Juliett', 'K':'Kilo', 'L':'Lima', 'M':'Mike', 'N':'November', 'O':'Oscar', 'P':'Papa', 'Q':'Quebec', 'R':'Romeo', \n",
    "     'S':'Sierra', 'T':'Tango', 'U':'Uniform', 'V':'Victor', 'W':'Whiskey', 'X':'Xray', 'Y':'Yankee', 'Z':'Zulu'}\n",
    "    \n",
    "    NatoWords = [PhoneticAlphabet.get(character.upper(), character) for character in words if character != ' ']\n",
    "    \n",
    "    return ' '.join(NatoWords)"
   ]
  },
  {
   "cell_type": "code",
   "execution_count": 6,
   "metadata": {},
   "outputs": [
    {
     "data": {
      "text/plain": [
       "'India Foxtrot Yankee Oscar Uniform Charlie Alfa November Romeo Echo Alfa Delta Tango Hotel India Sierra Tango Hotel Echo November Golf Oscar Oscar Delta Foxtrot Oscar Romeo Yankee Oscar Uniform'"
      ]
     },
     "execution_count": 6,
     "metadata": {},
     "output_type": "execute_result"
    }
   ],
   "source": [
    "to_nato_list_comp('If you can read this then good for you')"
   ]
  },
  {
   "cell_type": "code",
   "execution_count": 7,
   "metadata": {},
   "outputs": [
    {
     "data": {
      "text/plain": [
       "'Foxtrot Uniform Bravo Alfa Romeo ! !'"
      ]
     },
     "execution_count": 7,
     "metadata": {},
     "output_type": "execute_result"
    }
   ],
   "source": [
    "to_nato_list_comp('FUBAR!!')"
   ]
  },
  {
   "cell_type": "code",
   "execution_count": 8,
   "metadata": {},
   "outputs": [
    {
     "data": {
      "text/plain": [
       "'Hotel Oscar Whiskey Alfa Romeo Echo Yankee Oscar Uniform Tango Oscar Delta Alfa Yankee ?'"
      ]
     },
     "execution_count": 8,
     "metadata": {},
     "output_type": "execute_result"
    }
   ],
   "source": [
    "to_nato_list_comp('How are you today?')"
   ]
  },
  {
   "cell_type": "code",
   "execution_count": null,
   "metadata": {},
   "outputs": [],
   "source": []
  }
 ],
 "metadata": {
  "kernelspec": {
   "display_name": "Python 3",
   "language": "python",
   "name": "python3"
  },
  "language_info": {
   "codemirror_mode": {
    "name": "ipython",
    "version": 3
   },
   "file_extension": ".py",
   "mimetype": "text/x-python",
   "name": "python",
   "nbconvert_exporter": "python",
   "pygments_lexer": "ipython3",
   "version": "3.7.6"
  }
 },
 "nbformat": 4,
 "nbformat_minor": 4
}

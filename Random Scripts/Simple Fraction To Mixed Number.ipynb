{
 "cells": [
  {
   "cell_type": "code",
   "execution_count": 1,
   "metadata": {},
   "outputs": [],
   "source": [
    "from fractions import Fraction\n",
    "import math\n",
    "\n",
    "def mixed_fraction(stringNum):\n",
    "    x = stringNum.split('/')\n",
    "    impFracNum = int(x[0])\n",
    "    impFracDenom = int(x[1])\n",
    "    decimalVal = impFracNum / impFracDenom\n",
    "    \n",
    "    #If numerator is 0, then resulting string is 0\n",
    "    if impFracNum == 0:\n",
    "        return \"0\"\n",
    "    \n",
    "    #Return whole number if numerator = denominator\n",
    "    elif impFracNum % impFracDenom == 0:  \n",
    "        return str(decimalVal).rstrip('.0')\n",
    "   \n",
    "    else:\n",
    "        #Using Fraction(decimalVal) simplifies the denominator\n",
    "        result = Fraction(decimalVal).limit_denominator(10000000)\n",
    "        \n",
    "        #Round up or down if result is positive or negative\n",
    "        if result >=0:\n",
    "            wholeNum = math.floor(result.numerator / result.denominator)\n",
    "        else:\n",
    "            wholeNum = abs(math.ceil(result.numerator / result.denominator))\n",
    "        \n",
    "        #Obtain the new numerator\n",
    "        mixedNumerator = abs(result.numerator) % abs(result.denominator)\n",
    "        \n",
    "        #Setup the sign depending on numerator and denominator\n",
    "        if result.numerator <0 or result.denominator <0:\n",
    "            sign = \"-\"\n",
    "        else:\n",
    "            sign = \"\"\n",
    "            \n",
    "        if wholeNum == 0:\n",
    "            #Omit whole number if it is 0, produces x / y\n",
    "            return \"{}{}/{}\".format(sign, mixedNumerator, result.denominator)\n",
    "        else:\n",
    "            #Include whole number it not 0, produces A x/y\n",
    "            return \"{}{} {}/{}\".format(sign, wholeNum, mixedNumerator, result.denominator)\n",
    "    \n",
    "\n",
    "    "
   ]
  },
  {
   "cell_type": "code",
   "execution_count": 2,
   "metadata": {},
   "outputs": [
    {
     "data": {
      "text/plain": [
       "'4 2/3'"
      ]
     },
     "execution_count": 2,
     "metadata": {},
     "output_type": "execute_result"
    }
   ],
   "source": [
    "mixed_fraction(\"42/9\")"
   ]
  },
  {
   "cell_type": "code",
   "execution_count": 3,
   "metadata": {},
   "outputs": [
    {
     "data": {
      "text/plain": [
       "'2/3'"
      ]
     },
     "execution_count": 3,
     "metadata": {},
     "output_type": "execute_result"
    }
   ],
   "source": [
    "mixed_fraction(\"4/6\")"
   ]
  },
  {
   "cell_type": "code",
   "execution_count": 4,
   "metadata": {},
   "outputs": [
    {
     "data": {
      "text/plain": [
       "'2'"
      ]
     },
     "execution_count": 4,
     "metadata": {},
     "output_type": "execute_result"
    }
   ],
   "source": [
    "mixed_fraction(\"6/3\")"
   ]
  },
  {
   "cell_type": "code",
   "execution_count": 5,
   "metadata": {},
   "outputs": [
    {
     "data": {
      "text/plain": [
       "'-1 3/7'"
      ]
     },
     "execution_count": 5,
     "metadata": {},
     "output_type": "execute_result"
    }
   ],
   "source": [
    "mixed_fraction(\"-10/7\")"
   ]
  },
  {
   "cell_type": "code",
   "execution_count": 6,
   "metadata": {},
   "outputs": [
    {
     "data": {
      "text/plain": [
       "'-7261716/8061901'"
      ]
     },
     "execution_count": 6,
     "metadata": {},
     "output_type": "execute_result"
    }
   ],
   "source": [
    "mixed_fraction(\"7261716/-8061901\")"
   ]
  },
  {
   "cell_type": "code",
   "execution_count": null,
   "metadata": {},
   "outputs": [],
   "source": []
  },
  {
   "cell_type": "code",
   "execution_count": null,
   "metadata": {},
   "outputs": [],
   "source": []
  },
  {
   "cell_type": "code",
   "execution_count": null,
   "metadata": {},
   "outputs": [],
   "source": []
  },
  {
   "cell_type": "code",
   "execution_count": null,
   "metadata": {},
   "outputs": [],
   "source": []
  }
 ],
 "metadata": {
  "kernelspec": {
   "display_name": "Python 3",
   "language": "python",
   "name": "python3"
  },
  "language_info": {
   "codemirror_mode": {
    "name": "ipython",
    "version": 3
   },
   "file_extension": ".py",
   "mimetype": "text/x-python",
   "name": "python",
   "nbconvert_exporter": "python",
   "pygments_lexer": "ipython3",
   "version": "3.6.4"
  }
 },
 "nbformat": 4,
 "nbformat_minor": 2
}

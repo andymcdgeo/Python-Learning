{
 "cells": [
  {
   "cell_type": "code",
   "execution_count": 1,
   "metadata": {},
   "outputs": [],
   "source": [
    "from collections import defaultdict"
   ]
  },
  {
   "cell_type": "code",
   "execution_count": 2,
   "metadata": {},
   "outputs": [],
   "source": [
    "wellmnemonics = {\n",
    "    \"Caliper\": [\"CALI\", \"CAL\", \"CALM\", \"CALFM\", \"CALX\", \"CALY\", \"CALS\"],\n",
    "    \"Gamma\" : [\"GR\", \"GRAM\", \"GRAX\", \"GRAFM\", \"GRC\"],\n",
    "    \"Spectral GR\" : [\"SGR\", \"CGR\", \"K\", \"KTH\", \"TH\", \"THOR\", \"K\", \"POTA\", \"U\", \"URAN\"],\n",
    "    \"Density\" : [\"DENS\", \"DEN\", \"RHOB\", \"RHOZ\", \"ZDEN\", \"BDCM\", \"BDCFM\", \"ZDEN\", \"ZDNC\", \"ZDENC\"],\n",
    "    \"DRHO\":[\"DRHM\",\"ZCOR\", \"DRHO\"],\n",
    "    \"Neutron\" : [\"NPHI\", \"NEUT\", \"TNPH\", \"CNC\", \"CN\",\"NPHIC\", \"CNCP\"],\n",
    "    \"SP\":[\"SP\"],\n",
    "    \"Res Deep\":[\"ILD\", \"LLD\", \"RACLM\", \"RPCLM\", \"RESD\", \"RESDEEP\", \"M1RX\"],\n",
    "    \"Res Med\":[\"ILM\", \"RESM\", \"RESMED\"],\n",
    "    \"Res Shal\":[\"RESSHAL\", \"LLS\", \"RPCHM\", \"RACHM\", \"M1R1\"],\n",
    "    \"Res Micro\":[\"MSFL\", \"MSFLC\", \"RESMIC\", \"SFLU\"],\n",
    "    \"DT Comp\" : [\"DT\", \"DTC\", \"DTCM\", \"DTPM\", \"DTP\", \"DTCO\", \"DTLN\", \"DTLF\"],\n",
    "    \"DT Shear\" : [\"DTS\", \"DTSM\", \"DT4S\"],\n",
    "    \"PEF\":[\"PE\", \"PEFM\", \"PEF\"],\n",
    "    \"PHI\":[\"PHI\", \"PHIE\", \"PHIT\",\"PHID\", \"PHIN\"],\n",
    "    \"SW\":[\"SW\", \"SWE\", \"SWT\", \"SAT\"],\n",
    "    \"PERM\":[\"KH\", \"PERM\"],\n",
    "    \"VShale\":[\"VSH\", \"VSHALE\", \"vshale\", \"Vshale\"],\n",
    "    \"VClay\":[\"VCL\", \"VCLAY\", \"vclay\", \"Vclay\"]\n",
    "    }"
   ]
  },
  {
   "cell_type": "code",
   "execution_count": 4,
   "metadata": {},
   "outputs": [
    {
     "name": "stdout",
     "output_type": "stream",
     "text": [
      "Caliper\n",
      "Gamma\n",
      "Spectral GR\n",
      "Density\n",
      "DRHO\n",
      "Neutron\n",
      "SP\n",
      "Res Deep\n",
      "Res Med\n",
      "Res Shal\n",
      "Res Micro\n",
      "DT Comp\n",
      "DT Shear\n",
      "PEF\n",
      "PHI\n",
      "SW\n",
      "PERM\n",
      "VShale\n",
      "VClay\n"
     ]
    }
   ],
   "source": [
    "for key in wellmnemonics.keys():\n",
    "    print(key)"
   ]
  },
  {
   "cell_type": "code",
   "execution_count": 10,
   "metadata": {},
   "outputs": [],
   "source": [
    "wellmnemonics = defaultdict(list)"
   ]
  },
  {
   "cell_type": "code",
   "execution_count": 11,
   "metadata": {},
   "outputs": [
    {
     "data": {
      "text/plain": [
       "defaultdict(list, {})"
      ]
     },
     "execution_count": 11,
     "metadata": {},
     "output_type": "execute_result"
    }
   ],
   "source": [
    "wellmnemonics"
   ]
  },
  {
   "cell_type": "code",
   "execution_count": 9,
   "metadata": {},
   "outputs": [
    {
     "ename": "AttributeError",
     "evalue": "type object 'collections.defaultdict' has no attribute 'iteritems'",
     "output_type": "error",
     "traceback": [
      "\u001b[1;31m---------------------------------------------------------------------------\u001b[0m",
      "\u001b[1;31mAttributeError\u001b[0m                            Traceback (most recent call last)",
      "\u001b[1;32m<ipython-input-9-4623abe45157>\u001b[0m in \u001b[0;36m<module>\u001b[1;34m\u001b[0m\n\u001b[1;32m----> 1\u001b[1;33m \u001b[1;32mfor\u001b[0m \u001b[0mitem\u001b[0m \u001b[1;32min\u001b[0m \u001b[0mwellmnemonics\u001b[0m\u001b[1;33m.\u001b[0m\u001b[0miteritems\u001b[0m\u001b[1;33m(\u001b[0m\u001b[1;33m)\u001b[0m\u001b[1;33m:\u001b[0m\u001b[1;33m\u001b[0m\u001b[1;33m\u001b[0m\u001b[0m\n\u001b[0m\u001b[0;32m      2\u001b[0m     \u001b[0mprint\u001b[0m\u001b[1;33m(\u001b[0m\u001b[0mitem\u001b[0m\u001b[1;33m)\u001b[0m\u001b[1;33m\u001b[0m\u001b[1;33m\u001b[0m\u001b[0m\n",
      "\u001b[1;31mAttributeError\u001b[0m: type object 'collections.defaultdict' has no attribute 'iteritems'"
     ]
    }
   ],
   "source": [
    "for item in wellmnemonics.iteritems():\n",
    "    print(item)"
   ]
  },
  {
   "cell_type": "code",
   "execution_count": null,
   "metadata": {},
   "outputs": [],
   "source": []
  }
 ],
 "metadata": {
  "kernelspec": {
   "display_name": "Python 3",
   "language": "python",
   "name": "python3"
  },
  "language_info": {
   "codemirror_mode": {
    "name": "ipython",
    "version": 3
   },
   "file_extension": ".py",
   "mimetype": "text/x-python",
   "name": "python",
   "nbconvert_exporter": "python",
   "pygments_lexer": "ipython3",
   "version": "3.7.6"
  }
 },
 "nbformat": 4,
 "nbformat_minor": 4
}
